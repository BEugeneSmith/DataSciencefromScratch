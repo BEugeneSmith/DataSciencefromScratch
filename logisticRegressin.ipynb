{
 "cells": [
  {
   "cell_type": "code",
   "execution_count": 1,
   "metadata": {
    "collapsed": true
   },
   "outputs": [],
   "source": [
    "from math import exp"
   ]
  },
  {
   "cell_type": "code",
   "execution_count": 10,
   "metadata": {
    "collapsed": true
   },
   "outputs": [],
   "source": [
    "def logistic(x):\n",
    "    return 1.0 / (1 + exp(-x))\n",
    "\n",
    "def logistic_prime(x):\n",
    "    return (logistic(x) * (1-logistic(x)))"
   ]
  },
  {
   "cell_type": "code",
   "execution_count": 16,
   "metadata": {},
   "outputs": [
    {
     "name": "stdout",
     "output_type": "stream",
     "text": [
      "0.9933071490757153\n",
      "0.9241418199787566\n",
      "0.8411308951190849\n",
      "0.7772998611746911\n",
      "0.7310585786300049\n",
      "0.6970592839654073\n",
      "0.6713474534827301\n",
      "0.6513548646660542\n",
      "0.6354235592583607\n",
      "0.6224593312018546\n",
      "0.6117194114071615\n",
      "0.6026853379784917\n",
      "0.5949857935227716\n",
      "0.5883486248147178\n",
      "0.5825702064623147\n"
     ]
    }
   ],
   "source": [
    "for i in range(15):\n",
    "    i = (1.0/(i+1)) * 5\n",
    "    print(logistic(i))"
   ]
  },
  {
   "cell_type": "code",
   "execution_count": null,
   "metadata": {
    "collapsed": true
   },
   "outputs": [],
   "source": []
  }
 ],
 "metadata": {
  "kernelspec": {
   "display_name": "Python [conda root]",
   "language": "python",
   "name": "conda-root-py"
  },
  "language_info": {
   "codemirror_mode": {
    "name": "ipython",
    "version": 3
   },
   "file_extension": ".py",
   "mimetype": "text/x-python",
   "name": "python",
   "nbconvert_exporter": "python",
   "pygments_lexer": "ipython3",
   "version": "3.5.3"
  }
 },
 "nbformat": 4,
 "nbformat_minor": 2
}
