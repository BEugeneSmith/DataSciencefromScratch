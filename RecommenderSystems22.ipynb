{
 "cells": [
  {
   "cell_type": "code",
   "execution_count": 24,
   "metadata": {
    "collapsed": true
   },
   "outputs": [],
   "source": [
    "from collections import Counter,defaultdict\n",
    "import math"
   ]
  },
  {
   "cell_type": "code",
   "execution_count": 25,
   "metadata": {
    "collapsed": true
   },
   "outputs": [],
   "source": [
    "# data"
   ]
  },
  {
   "cell_type": "code",
   "execution_count": 26,
   "metadata": {},
   "outputs": [
    {
     "ename": "NameError",
     "evalue": "name 'dot' is not defined",
     "output_type": "error",
     "traceback": [
      "\u001b[0;31m---------------------------------------------------------------------------\u001b[0m",
      "\u001b[0;31mNameError\u001b[0m                                 Traceback (most recent call last)",
      "\u001b[0;32m<ipython-input-26-dd37a1b3d878>\u001b[0m in \u001b[0;36m<module>\u001b[0;34m()\u001b[0m\n\u001b[0;32m----> 1\u001b[0;31m \u001b[0mdot\u001b[0m\u001b[0;34m(\u001b[0m\u001b[0;34m[\u001b[0m\u001b[0;36m1\u001b[0m\u001b[0;34m,\u001b[0m\u001b[0;36m2\u001b[0m\u001b[0;34m]\u001b[0m\u001b[0;34m,\u001b[0m\u001b[0;34m[\u001b[0m\u001b[0;36m1\u001b[0m\u001b[0;34m,\u001b[0m\u001b[0;36m2\u001b[0m\u001b[0;34m]\u001b[0m\u001b[0;34m)\u001b[0m\u001b[0;34m\u001b[0m\u001b[0m\n\u001b[0m",
      "\u001b[0;31mNameError\u001b[0m: name 'dot' is not defined"
     ]
    }
   ],
   "source": [
    "dot([1,2],[1,2])"
   ]
  },
  {
   "cell_type": "code",
   "execution_count": 27,
   "metadata": {},
   "outputs": [
    {
     "ename": "SyntaxError",
     "evalue": "unexpected EOF while parsing (<ipython-input-27-09fb7d8cadb4>, line 3)",
     "output_type": "error",
     "traceback": [
      "\u001b[0;36m  File \u001b[0;32m\"<ipython-input-27-09fb7d8cadb4>\"\u001b[0;36m, line \u001b[0;32m3\u001b[0m\n\u001b[0;31m    return sum((v_i*w_i for v_i,w_i in zip(v,w))\u001b[0m\n\u001b[0m                                                ^\u001b[0m\n\u001b[0;31mSyntaxError\u001b[0m\u001b[0;31m:\u001b[0m unexpected EOF while parsing\n"
     ]
    }
   ],
   "source": [
    "# from old ones\n",
    "def dot(v,w):\n",
    "    return sum((v_i*w_i for v_i,w_i in zip(v,w))"
   ]
  },
  {
   "cell_type": "code",
   "execution_count": 28,
   "metadata": {},
   "outputs": [],
   "source": [
    "# from new ones\n",
    "def most_popular_new_interests(user_interests,max_results=5):\n",
    "    suggestions = [(interest,frequency)\n",
    "                  for interest, frequency in popular_interests\n",
    "                  if interest not in user_interests]\n",
    "    return suggestions[:max_results]\n",
    "\n",
    "def cosine_similarity(v,w):\n",
    "    return dot(v,w)/math.sqrt(dot(v,v)*dot)(w,w)\n",
    "\n",
    "def make_user_interest_vector(user_interests):\n",
    "    \"\"\" given a list of interests, proce a vector whose ith element is 1\n",
    "    if unique_interests[i] us un the list, 0 otherwise \"\"\"\n",
    "    return [1 if interest in user_interests else 0 \n",
    "            for interets in unique_interests]\n",
    "\n",
    "def most_similar_users_to(user_id):\n",
    "    pairs = [(other_user_id,similarity)\n",
    "            for other_user_id, similarity in\n",
    "                enumerate(user_similarities[user_id])\n",
    "            if user_id != other_user_id and similarity > 0]\n",
    "    return sorted(pairs,\n",
    "                  key=lambda similarity: similarity[1],\n",
    "                  reverse=True)\n",
    "\n",
    "def user_based_suggestions(user_id,include_current_interests=False):\n",
    "    # sum up similarities\n",
    "    suggestions = defaultdict(float)\n",
    "    for other_user_id, similarity in most_similar_users_to(user_id):\n",
    "        for interest in users_interests[other_user_id]:\n",
    "            suggestions[interest] += similarity\n",
    "            \n",
    "    # convert them to a sorted list\n",
    "    suggestions = sorted(suggestions.items(),\n",
    "                        key=lambda weight: weight[1],\n",
    "                        reverse=True)\n",
    "    \n",
    "    # and (maybe) exclude already-interests\n",
    "    if include_current_interests:\n",
    "        return suggestions\n",
    "    else:\n",
    "        return [(suggestion,weight)\n",
    "               for suggestion,weight in suggestions\n",
    "               if suggestion not in user_interests[user_id]]\n",
    "                \n",
    "def most_similar_interests_to(interest_id):\n",
    "    similarities = interest_similarities[interest_id]\n",
    "    pairs = [(unique_interests[other_interest_id],similarity)\n",
    "            for other_interest_id,similarity in enumerate(similarities)\n",
    "            if interest_id != other_interest_id and similarity > 0]\n",
    "    return sorted(pairs,\n",
    "                 key=lambda similarity: similarity[1],\n",
    "                reverse=True)\n",
    "                \n",
    "def item_based_suggestions(user_id,include_current_interests=False):\n",
    "    suggestions = defaultdict(float)\n",
    "    user_interest_vector = user_interest_matrix[user_id]\n",
    "    for interest_id, is_interested in enumerate(user_interest_vector):\n",
    "        if is_interested == 1:\n",
    "            similar_interests = most_similar_interests_to(interest_id)\n",
    "            for interest, similarity in similar_interests:\n",
    "                suggestions[interest] += similarity\n",
    "                \n",
    "    # sort them by weight\n",
    "    suggestions = sorted(suggestions.items(),\n",
    "                        key=lambda similarity: similarity[1],\n",
    "                        reverse=True)\n",
    "    \n",
    "    if include_current_interests:\n",
    "        return suggestions\n",
    "    else:\n",
    "        return [(suggestion,weight)\n",
    "               for suggestion, weight in suggestions\n",
    "               if suggestion not in user_interests[user_id]]\n",
    "                "
   ]
  },
  {
   "cell_type": "code",
   "execution_count": 29,
   "metadata": {},
   "outputs": [
    {
     "ename": "NameError",
     "evalue": "name 'user_interests' is not defined",
     "output_type": "error",
     "traceback": [
      "\u001b[0;31m---------------------------------------------------------------------------\u001b[0m",
      "\u001b[0;31mNameError\u001b[0m                                 Traceback (most recent call last)",
      "\u001b[0;32m<ipython-input-29-5417fd414742>\u001b[0m in \u001b[0;36m<module>\u001b[0;34m()\u001b[0m\n\u001b[1;32m      1\u001b[0m \u001b[0;31m# new processing\u001b[0m\u001b[0;34m\u001b[0m\u001b[0;34m\u001b[0m\u001b[0m\n\u001b[1;32m      2\u001b[0m popular_interests = Counter(interest\n\u001b[0;32m----> 3\u001b[0;31m                            \u001b[0;32mfor\u001b[0m \u001b[0muser_interests\u001b[0m \u001b[0;32min\u001b[0m \u001b[0muser_interests\u001b[0m\u001b[0;34m\u001b[0m\u001b[0m\n\u001b[0m\u001b[1;32m      4\u001b[0m                            for interest in user_interests).most_common()\n\u001b[1;32m      5\u001b[0m \u001b[0;34m\u001b[0m\u001b[0m\n",
      "\u001b[0;31mNameError\u001b[0m: name 'user_interests' is not defined"
     ]
    }
   ],
   "source": [
    "# new processing\n",
    "popular_interests = Counter(interest\n",
    "                           for user_interests in user_interests\n",
    "                           for interest in user_interests).most_common()\n",
    "\n",
    "unique_interests = sorted(list({interest\n",
    "                               for user_interests in user_interests\n",
    "                               for interest in user_interests}))\n",
    "\n",
    "user_interest_matrix = map(make_user_interest_vector,user_interests)\n",
    "\n",
    "user_similarities = [[cosine_similarity(interest_vector_i, interest_vector_j) \n",
    "                     for interest_vector_j in user_interest_matrix]\n",
    "                    for interest_vector_i in user_interest_matrix]"
   ]
  },
  {
   "cell_type": "code",
   "execution_count": 23,
   "metadata": {
    "collapsed": true
   },
   "outputs": [],
   "source": [
    "x = [(9,0.55),(8,0.33)]"
   ]
  },
  {
   "cell_type": "code",
   "execution_count": 10,
   "metadata": {},
   "outputs": [
    {
     "ename": "SyntaxError",
     "evalue": "invalid syntax (<ipython-input-10-52a90343c073>, line 1)",
     "output_type": "error",
     "traceback": [
      "\u001b[0;36m  File \u001b[0;32m\"<ipython-input-10-52a90343c073>\"\u001b[0;36m, line \u001b[0;32m1\u001b[0m\n\u001b[0;31m    sorted(x,key=lambda (_,similarity): similarity,reverse=True)\u001b[0m\n\u001b[0m                        ^\u001b[0m\n\u001b[0;31mSyntaxError\u001b[0m\u001b[0;31m:\u001b[0m invalid syntax\n"
     ]
    }
   ],
   "source": [
    "sorted(x,key=lambda (_,similarity): similarity,reverse=True)"
   ]
  },
  {
   "cell_type": "code",
   "execution_count": 16,
   "metadata": {},
   "outputs": [
    {
     "data": {
      "text/plain": [
       "[0.55, 0.33]"
      ]
     },
     "execution_count": 16,
     "metadata": {},
     "output_type": "execute_result"
    }
   ],
   "source": [
    "list(map(lambda similarity: similarity[1],x))\n"
   ]
  },
  {
   "cell_type": "code",
   "execution_count": null,
   "metadata": {
    "collapsed": true
   },
   "outputs": [],
   "source": []
  }
 ],
 "metadata": {
  "kernelspec": {
   "display_name": "Python [conda root]",
   "language": "python",
   "name": "conda-root-py"
  },
  "language_info": {
   "codemirror_mode": {
    "name": "ipython",
    "version": 3
   },
   "file_extension": ".py",
   "mimetype": "text/x-python",
   "name": "python",
   "nbconvert_exporter": "python",
   "pygments_lexer": "ipython3",
   "version": "3.5.3"
  }
 },
 "nbformat": 4,
 "nbformat_minor": 2
}
