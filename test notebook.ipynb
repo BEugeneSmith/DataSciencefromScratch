{
 "cells": [
  {
   "cell_type": "markdown",
   "metadata": {},
   "source": [
    "### Chpt 6, probability"
   ]
  },
  {
   "cell_type": "code",
   "execution_count": 9,
   "metadata": {
    "collapsed": true
   },
   "outputs": [],
   "source": [
    "import chpt6_probability as c6"
   ]
  },
  {
   "cell_type": "code",
   "execution_count": 28,
   "metadata": {},
   "outputs": [
    {
     "data": {
      "text/plain": [
       "0.5"
      ]
     },
     "execution_count": 28,
     "metadata": {},
     "output_type": "execute_result"
    }
   ],
   "source": [
    "# what is the probability both children are girls and the older child is a girl?\n",
    "# this problem naively assumes indepenence\n",
    "pg1 = 0.5 # probability of having a girl first\n",
    "pg2 = 0.5 # probability of having a girl second\n",
    "(pg1 * pg2) / (pg1)"
   ]
  },
  {
   "cell_type": "code",
   "execution_count": 30,
   "metadata": {},
   "outputs": [
    {
     "data": {
      "text/plain": [
       "0.3333333333333333"
      ]
     },
     "execution_count": 30,
     "metadata": {},
     "output_type": "execute_result"
    }
   ],
   "source": [
    "# what is the probability both children are girls and at least one is a girl\n",
    "'''\n",
    "    we know pg1 is a girl, but to find the probability not first girl, we take the liklihood\n",
    "    of not a girl on the first, and multiply that by the liklihood of a girl second.\n",
    "    That can then be added to the liklihood of a girl first to get the sum probability\n",
    "'''\n",
    "(pg1 * pg2) / (pg1 + ((1-pg1)*pg2))"
   ]
  },
  {
   "cell_type": "code",
   "execution_count": 40,
   "metadata": {},
   "outputs": [
    {
     "name": "stdout",
     "output_type": "stream",
     "text": [
      "both|older:0.5007089325501317 \n",
      "both|either:0.3311897106109325 \n"
     ]
    }
   ],
   "source": [
    "# set up some functions and verify our logic above, testing independence\n",
    "import random\n",
    "\n",
    "def random_kid():\n",
    "    return random.choice(['boy','girl'])\n",
    "\n",
    "'''\n",
    "    The assumption of independence is easy to deal with. We assume no relationship between our event, or as above, each birth\n",
    "'''\n",
    "\n",
    "both_girls = 0\n",
    "older_girl = 0\n",
    "either_girl = 0\n",
    "\n",
    "random.seed(0)\n",
    "for _ in range(10000):\n",
    "    younger = random_kid()\n",
    "    older = random_kid()\n",
    "    if older == \"girl\":\n",
    "        older_girl += 1\n",
    "    if older == \"girl\" and younger == \"girl\":\n",
    "        both_girls += 1\n",
    "    if older == \"girl\" or younger == \"girl\":\n",
    "        either_girl += 1 \n",
    "        \n",
    "print ('both|older:{} '.format(both_girls/older_girl))\n",
    "print ('both|either:{} '.format(both_girls/either_girl))\n"
   ]
  },
  {
   "cell_type": "markdown",
   "metadata": {},
   "source": [
    "To test the association between events we use bayes theorem"
   ]
  },
  {
   "cell_type": "code",
   "execution_count": 58,
   "metadata": {
    "collapsed": true
   },
   "outputs": [],
   "source": [
    "# let's say we have a disease, and a test for it\n",
    "pd = 1/100000 # occurrence of disease\n",
    "pt_d = 0.99 # test accuracy rate\n",
    "# we're already looking in the test branch in pt_d, so by negating it we can get the test inaccuracy\n",
    "# (1-pt_d)\n",
    "# we can also get the liklihood of not having the disease\n"
   ]
  },
  {
   "cell_type": "code",
   "execution_count": 59,
   "metadata": {},
   "outputs": [
    {
     "data": {
      "text/plain": [
       "0.0009890307498651313"
      ]
     },
     "execution_count": 59,
     "metadata": {},
     "output_type": "execute_result"
    }
   ],
   "source": [
    "(pd*pt_d)/((pd*pt_d)+((1-pt_d)*(1-pd)))"
   ]
  },
  {
   "cell_type": "code",
   "execution_count": null,
   "metadata": {
    "collapsed": true
   },
   "outputs": [],
   "source": []
  }
 ],
 "metadata": {
  "kernelspec": {
   "display_name": "Python [conda root]",
   "language": "python",
   "name": "conda-root-py"
  },
  "language_info": {
   "codemirror_mode": {
    "name": "ipython",
    "version": 3
   },
   "file_extension": ".py",
   "mimetype": "text/x-python",
   "name": "python",
   "nbconvert_exporter": "python",
   "pygments_lexer": "ipython3",
   "version": "3.5.3"
  }
 },
 "nbformat": 4,
 "nbformat_minor": 2
}
