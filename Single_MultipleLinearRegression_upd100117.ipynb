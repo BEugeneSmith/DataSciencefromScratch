{
 "cells": [
  {
   "cell_type": "code",
   "execution_count": 54,
   "metadata": {},
   "outputs": [
    {
     "ename": "ImportError",
     "evalue": "cannot import name 'RegressionChart'",
     "output_type": "error",
     "traceback": [
      "\u001b[0;31m---------------------------------------------------------------------------\u001b[0m",
      "\u001b[0;31mImportError\u001b[0m                               Traceback (most recent call last)",
      "\u001b[0;32m<ipython-input-54-b1ac32c39e8b>\u001b[0m in \u001b[0;36m<module>\u001b[0;34m()\u001b[0m\n\u001b[1;32m      1\u001b[0m \u001b[0;32mfrom\u001b[0m \u001b[0msklearn\u001b[0m\u001b[0;34m.\u001b[0m\u001b[0mdatasets\u001b[0m \u001b[0;32mimport\u001b[0m \u001b[0mcalifornia_housing\u001b[0m\u001b[0;34m\u001b[0m\u001b[0m\n\u001b[1;32m      2\u001b[0m \u001b[0;32mfrom\u001b[0m \u001b[0mmath\u001b[0m \u001b[0;32mimport\u001b[0m \u001b[0msqrt\u001b[0m\u001b[0;34m\u001b[0m\u001b[0m\n\u001b[0;32m----> 3\u001b[0;31m \u001b[0;32mfrom\u001b[0m \u001b[0maltair\u001b[0m \u001b[0;32mimport\u001b[0m \u001b[0mChart\u001b[0m\u001b[0;34m,\u001b[0m\u001b[0mRegressionChart\u001b[0m\u001b[0;34m\u001b[0m\u001b[0m\n\u001b[0m\u001b[1;32m      4\u001b[0m \u001b[0;32mimport\u001b[0m \u001b[0mpandas\u001b[0m \u001b[0;32mas\u001b[0m \u001b[0mpd\u001b[0m\u001b[0;34m\u001b[0m\u001b[0m\n",
      "\u001b[0;31mImportError\u001b[0m: cannot import name 'RegressionChart'"
     ]
    }
   ],
   "source": [
    "from sklearn.datasets import california_housing\n",
    "from math import sqrt\n",
    "from altair import Chart,RegressionChart\n",
    "import pandas as pd"
   ]
  },
  {
   "cell_type": "code",
   "execution_count": 2,
   "metadata": {},
   "outputs": [],
   "source": [
    "housing = california_housing.fetch_california_housing()"
   ]
  },
  {
   "cell_type": "code",
   "execution_count": 4,
   "metadata": {},
   "outputs": [
    {
     "data": {
      "text/plain": [
       "array([[  8.32520000e+00,   4.10000000e+01,   6.98412698e+00,\n",
       "          1.02380952e+00,   3.22000000e+02,   2.55555556e+00,\n",
       "          3.78800000e+01,  -1.22230000e+02],\n",
       "       [  8.30140000e+00,   2.10000000e+01,   6.23813708e+00,\n",
       "          9.71880492e-01,   2.40100000e+03,   2.10984183e+00,\n",
       "          3.78600000e+01,  -1.22220000e+02]])"
      ]
     },
     "execution_count": 4,
     "metadata": {},
     "output_type": "execute_result"
    }
   ],
   "source": [
    "housing['data'][:2]"
   ]
  },
  {
   "cell_type": "code",
   "execution_count": 5,
   "metadata": {},
   "outputs": [
    {
     "data": {
      "text/plain": [
       "['MedInc',\n",
       " 'HouseAge',\n",
       " 'AveRooms',\n",
       " 'AveBedrms',\n",
       " 'Population',\n",
       " 'AveOccup',\n",
       " 'Latitude',\n",
       " 'Longitude']"
      ]
     },
     "execution_count": 5,
     "metadata": {},
     "output_type": "execute_result"
    }
   ],
   "source": [
    "housing['feature_names']"
   ]
  },
  {
   "cell_type": "code",
   "execution_count": 34,
   "metadata": {
    "collapsed": true
   },
   "outputs": [],
   "source": [
    "x = [i[0] for i in housing['data']]\n",
    "y = housing['target']"
   ]
  },
  {
   "cell_type": "code",
   "execution_count": 40,
   "metadata": {
    "collapsed": true
   },
   "outputs": [],
   "source": [
    "data = pd.DataFrame({'MedInc':x,'target':y})"
   ]
  },
  {
   "cell_type": "code",
   "execution_count": 33,
   "metadata": {},
   "outputs": [],
   "source": [
    "def mean(v):\n",
    "    return sum(v)/len(v)\n",
    "\n",
    "def dot(v,w):\n",
    "    \"\"\" compute component wise product of two vectors \"\"\"\n",
    "    return sum(v_i * w_i for v_i,w_i in zip(v,w))\n",
    "\n",
    "def de_mean(x):\n",
    "    \"\"\" get distance from mean for a vector \"\"\"\n",
    "    x_bar = mean(x)\n",
    "    return [x_i - x_bar for x_i in x]\n",
    "\n",
    "def variance(x):\n",
    "    n = len(x)\n",
    "    deviations = de_mean(x)\n",
    "    return sum_of_squares(deviations) / (n-1)\n",
    "\n",
    "def standard_deviation(x):\n",
    "    return sqrt(variance(x))\n",
    "\n",
    "def covariance(x,y):\n",
    "    n = len(x)\n",
    "    return (dot(de_mean(x),de_mean(y))) / (n-1)\n",
    "\n",
    "def correlation(x,y):\n",
    "    stdev_x = standard_deviation(x)\n",
    "    stdev_y = standard_deviation(y)\n",
    "    if stdev_x > 0 and stdev_y > 0:\n",
    "        return covariance(x,y) / stdev_x / stdev_y\n",
    "    else:\n",
    "        return 0\n",
    "\n",
    "def predict(alpha,beta, x_i):\n",
    "    return alpha + (beta * x_i)\n",
    "\n",
    "def error(alpha,beta,x_i,y_i):\n",
    "    return y_i - predict(alpha,beta,x_i)\n",
    "\n",
    "def sum_of_squared_errors(alpha,beta,x,y):\n",
    "    return sum(error(alpha,beta,x_i,y_i)**2 for x_i,y_i in zip(x,y))\n",
    "\n",
    "def least_squares_fit(x,y):\n",
    "    beta = correlation(x,y) * standard_deviation(y)/standard_deviation(x)\n",
    "    alpha = mean(y) - beta * mean(x)\n",
    "    return alpha,beta\n",
    "\n",
    "def sum_of_squares(v):\n",
    "    # TODO\n",
    "    return dot(v,v)\n",
    "\n",
    "def total_sum_of_squares(v):\n",
    "    return sum(i ** 2 for i in de_mean(v))\n",
    "\n",
    "def r_squared(alpha,beta,x,y):\n",
    "    return 1.0 - (sum_of_squared_errors(alpha,beta,x,y))/total_sum_of_squares(y)"
   ]
  },
  {
   "cell_type": "code",
   "execution_count": 38,
   "metadata": {},
   "outputs": [
    {
     "data": {
      "text/plain": [
       "0.47344749180720991"
      ]
     },
     "execution_count": 38,
     "metadata": {},
     "output_type": "execute_result"
    }
   ],
   "source": [
    "alpha,beta = least_squares_fit(x,y)\n",
    "r_squared(alpha,beta,x,y)"
   ]
  },
  {
   "cell_type": "code",
   "execution_count": 45,
   "metadata": {},
   "outputs": [
    {
     "data": {
      "text/html": [
       "<div class=\"vega-embed\" id=\"c774b109-4b6f-427c-a3e2-2d8798c60601\"></div>\n",
       "\n",
       "<style>\n",
       ".vega-embed svg, .vega-embed canvas {\n",
       "  border: 1px dotted gray;\n",
       "}\n",
       "\n",
       ".vega-embed .vega-actions a {\n",
       "  margin-right: 6px;\n",
       "}\n",
       "</style>\n"
      ]
     },
     "metadata": {
      "jupyter-vega": "#c774b109-4b6f-427c-a3e2-2d8798c60601"
     },
     "output_type": "display_data"
    },
    {
     "data": {
      "application/javascript": [
       "var spec = {\"mark\": \"point\", \"data\": {\"values\": [{\"MedInc\": 4.5398, \"target\": 1.431}, {\"MedInc\": 4.6776, \"target\": 2.955}, {\"MedInc\": 6.9223, \"target\": 3.384}, {\"MedInc\": 2.5893, \"target\": 0.889}, {\"MedInc\": 9.1228, \"target\": 5.00001}, {\"MedInc\": 4.119, \"target\": 1.109}, {\"MedInc\": 2.4952, \"target\": 0.539}, {\"MedInc\": 1.7823, \"target\": 2.053}, {\"MedInc\": 2.096, \"target\": 1.875}, {\"MedInc\": 5.0497, \"target\": 5.00001}, {\"MedInc\": 3.125, \"target\": 0.65}, {\"MedInc\": 4.7515, \"target\": 2.956}, {\"MedInc\": 3.0187, \"target\": 1.546}, {\"MedInc\": 2.8182, \"target\": 1.269}, {\"MedInc\": 3.2112, \"target\": 2.045}, {\"MedInc\": 6.0808, \"target\": 2.156}, {\"MedInc\": 4.8611, \"target\": 2.319}, {\"MedInc\": 2.1786, \"target\": 1.208}, {\"MedInc\": 3.8869, \"target\": 1.259}, {\"MedInc\": 3.5072, \"target\": 1.219}, {\"MedInc\": 8.0957, \"target\": 5.00001}, {\"MedInc\": 3.9659, \"target\": 5.00001}, {\"MedInc\": 3.8542, \"target\": 1.985}, {\"MedInc\": 2.1074, \"target\": 1.813}, {\"MedInc\": 1.9957, \"target\": 0.893}, {\"MedInc\": 4.0208, \"target\": 4.146}, {\"MedInc\": 6.9408, \"target\": 2.988}, {\"MedInc\": 3.4028, \"target\": 3.242}, {\"MedInc\": 2.7031, \"target\": 2.189}, {\"MedInc\": 2.3043, \"target\": 0.663}, {\"MedInc\": 1.5625, \"target\": 0.917}, {\"MedInc\": 3.2756, \"target\": 1.568}, {\"MedInc\": 2.1375, \"target\": 0.875}, {\"MedInc\": 2.5434, \"target\": 0.673}, {\"MedInc\": 2.6094, \"target\": 0.713}, {\"MedInc\": 2.7138, \"target\": 0.225}, {\"MedInc\": 3.7885, \"target\": 2.045}, {\"MedInc\": 4.1328, \"target\": 5.00001}, {\"MedInc\": 1.7321, \"target\": 0.844}, {\"MedInc\": 3.1576, \"target\": 1.472}, {\"MedInc\": 1.6351, \"target\": 0.596}, {\"MedInc\": 4.542, \"target\": 1.953}, {\"MedInc\": 7.4001, \"target\": 5.00001}, {\"MedInc\": 4.0, \"target\": 1.646}, {\"MedInc\": 2.2292, \"target\": 1.132}, {\"MedInc\": 1.625, \"target\": 0.5}, {\"MedInc\": 2.3594, \"target\": 0.723}, {\"MedInc\": 2.462, \"target\": 2.603}, {\"MedInc\": 1.2813, \"target\": 0.467}, {\"MedInc\": 2.9479, \"target\": 2.431}, {\"MedInc\": 3.0, \"target\": 1.625}, {\"MedInc\": 3.625, \"target\": 0.834}, {\"MedInc\": 3.7383, \"target\": 1.662}, {\"MedInc\": 2.1023, \"target\": 1.037}, {\"MedInc\": 3.4943, \"target\": 3.111}, {\"MedInc\": 3.5363, \"target\": 0.901}, {\"MedInc\": 4.6437, \"target\": 1.917}, {\"MedInc\": 5.6293, \"target\": 1.976}, {\"MedInc\": 15.0001, \"target\": 1.313}, {\"MedInc\": 3.7527, \"target\": 1.619}, {\"MedInc\": 4.1417, \"target\": 2.708}, {\"MedInc\": 2.3683, \"target\": 0.825}, {\"MedInc\": 4.1974, \"target\": 1.578}, {\"MedInc\": 2.108, \"target\": 0.838}, {\"MedInc\": 8.5677, \"target\": 5.00001}, {\"MedInc\": 3.8646, \"target\": 2.146}, {\"MedInc\": 4.2429, \"target\": 1.473}, {\"MedInc\": 1.2056, \"target\": 0.875}, {\"MedInc\": 1.9797, \"target\": 1.188}, {\"MedInc\": 3.0221, \"target\": 2.901}, {\"MedInc\": 3.994, \"target\": 0.955}, {\"MedInc\": 2.8281, \"target\": 1.063}, {\"MedInc\": 2.6902, \"target\": 2.125}, {\"MedInc\": 6.1949, \"target\": 2.435}, {\"MedInc\": 2.1764, \"target\": 1.353}, {\"MedInc\": 6.6131, \"target\": 3.125}, {\"MedInc\": 3.1667, \"target\": 2.316}, {\"MedInc\": 4.375, \"target\": 1.855}, {\"MedInc\": 2.5352, \"target\": 1.844}, {\"MedInc\": 5.2374, \"target\": 1.855}, {\"MedInc\": 2.4732, \"target\": 1.313}, {\"MedInc\": 0.9304, \"target\": 1.516}, {\"MedInc\": 5.0871, \"target\": 3.545}, {\"MedInc\": 0.4999, \"target\": 0.735}, {\"MedInc\": 4.5486, \"target\": 3.61}, {\"MedInc\": 3.767, \"target\": 1.668}, {\"MedInc\": 5.2798, \"target\": 2.374}, {\"MedInc\": 4.2219, \"target\": 1.628}, {\"MedInc\": 5.0406, \"target\": 2.614}, {\"MedInc\": 1.8897, \"target\": 1.743}, {\"MedInc\": 3.5481, \"target\": 1.055}, {\"MedInc\": 9.3399, \"target\": 5.00001}, {\"MedInc\": 4.0068, \"target\": 2.495}, {\"MedInc\": 3.65, \"target\": 1.689}, {\"MedInc\": 7.6107, \"target\": 5.00001}, {\"MedInc\": 8.7288, \"target\": 4.258}, {\"MedInc\": 3.8275, \"target\": 2.385}, {\"MedInc\": 9.8937, \"target\": 5.00001}, {\"MedInc\": 2.0437, \"target\": 1.372}, {\"MedInc\": 4.7604, \"target\": 2.947}]}, \"config\": {\"cell\": {\"width\": 500, \"height\": 350}}, \"encoding\": {\"y\": {\"field\": \"target\", \"type\": \"quantitative\"}, \"x\": {\"field\": \"MedInc\", \"type\": \"quantitative\"}}};\n",
       "var selector = \"#c774b109-4b6f-427c-a3e2-2d8798c60601\";\n",
       "var type = \"vega-lite\";\n",
       "\n",
       "var output_area = this;\n",
       "require(['nbextensions/jupyter-vega/index'], function(vega) {\n",
       "  vega.render(selector, spec, type, output_area);\n",
       "}, function (err) {\n",
       "  if (err.requireType !== 'scripterror') {\n",
       "    throw(err);\n",
       "  }\n",
       "});\n"
      ]
     },
     "metadata": {
      "jupyter-vega": "#c774b109-4b6f-427c-a3e2-2d8798c60601"
     },
     "output_type": "display_data"
    },
    {
     "data": {
      "image/png": "[encoded data removed]"
     },
     "metadata": {
      "jupyter-vega": "#c774b109-4b6f-427c-a3e2-2d8798c60601"
     },
     "output_type": "display_data"
    }
   ],
   "source": [
    "Chart(data.sample(100)).mark_point().encode(\n",
    "    x='MedInc',\n",
    "    y='target',\n",
    ")"
   ]
  },
  {
   "cell_type": "code",
   "execution_count": 51,
   "metadata": {},
   "outputs": [],
   "source": [
    "c = Chart(data.sample(100)).mark_line()"
   ]
  },
  {
   "cell_type": "code",
   "execution_count": 52,
   "metadata": {},
   "outputs": [
    {
     "data": {
      "text/html": [
       "<div class=\"vega-embed\" id=\"cc0c608e-2e64-4b76-a079-9bdf905a6d63\"></div>\n",
       "\n",
       "<style>\n",
       ".vega-embed svg, .vega-embed canvas {\n",
       "  border: 1px dotted gray;\n",
       "}\n",
       "\n",
       ".vega-embed .vega-actions a {\n",
       "  margin-right: 6px;\n",
       "}\n",
       "</style>\n"
      ]
     },
     "metadata": {
      "jupyter-vega": "#cc0c608e-2e64-4b76-a079-9bdf905a6d63"
     },
     "output_type": "display_data"
    },
    {
     "data": {
      "application/javascript": [
       "var spec = {\"mark\": \"line\", \"data\": {\"values\": [{\"MedInc\": 7.2972, \"target\": 2.696}, {\"MedInc\": 3.8837, \"target\": 2.003}, {\"MedInc\": 6.7093, \"target\": 3.112}, {\"MedInc\": 3.3869, \"target\": 0.804}, {\"MedInc\": 2.4091, \"target\": 1.155}, {\"MedInc\": 3.0189, \"target\": 1.441}, {\"MedInc\": 2.0469, \"target\": 0.893}, {\"MedInc\": 2.5673, \"target\": 0.682}, {\"MedInc\": 2.6316, \"target\": 2.528}, {\"MedInc\": 2.9591, \"target\": 2.101}, {\"MedInc\": 2.15, \"target\": 0.972}, {\"MedInc\": 2.8489, \"target\": 1.283}, {\"MedInc\": 2.6921, \"target\": 0.975}, {\"MedInc\": 11.0124, \"target\": 5.00001}, {\"MedInc\": 4.1883, \"target\": 1.845}, {\"MedInc\": 2.0781, \"target\": 0.748}, {\"MedInc\": 2.925, \"target\": 1.708}, {\"MedInc\": 4.8152, \"target\": 2.324}, {\"MedInc\": 3.8, \"target\": 1.875}, {\"MedInc\": 2.532, \"target\": 1.727}, {\"MedInc\": 2.9085, \"target\": 1.563}, {\"MedInc\": 4.4904, \"target\": 1.504}, {\"MedInc\": 2.9821, \"target\": 0.974}, {\"MedInc\": 3.425, \"target\": 1.656}, {\"MedInc\": 1.9375, \"target\": 0.87}, {\"MedInc\": 6.7927, \"target\": 2.347}, {\"MedInc\": 5.5538, \"target\": 2.803}, {\"MedInc\": 2.1339, \"target\": 0.785}, {\"MedInc\": 7.7364, \"target\": 4.358}, {\"MedInc\": 4.4167, \"target\": 2.473}, {\"MedInc\": 5.3311, \"target\": 2.708}, {\"MedInc\": 4.3203, \"target\": 2.328}, {\"MedInc\": 8.1782, \"target\": 5.00001}, {\"MedInc\": 3.6528, \"target\": 1.332}, {\"MedInc\": 6.3914, \"target\": 2.18}, {\"MedInc\": 2.5727, \"target\": 0.861}, {\"MedInc\": 6.3047, \"target\": 2.857}, {\"MedInc\": 4.725, \"target\": 2.321}, {\"MedInc\": 3.7067, \"target\": 1.75}, {\"MedInc\": 13.4196, \"target\": 5.00001}, {\"MedInc\": 2.1771, \"target\": 0.392}, {\"MedInc\": 1.7865, \"target\": 0.88}, {\"MedInc\": 4.3182, \"target\": 3.571}, {\"MedInc\": 2.4919, \"target\": 0.757}, {\"MedInc\": 5.2699, \"target\": 2.042}, {\"MedInc\": 3.1944, \"target\": 1.17}, {\"MedInc\": 2.1856, \"target\": 1.205}, {\"MedInc\": 1.51, \"target\": 1.875}, {\"MedInc\": 2.1518, \"target\": 1.074}, {\"MedInc\": 5.1463, \"target\": 2.202}, {\"MedInc\": 4.0781, \"target\": 1.243}, {\"MedInc\": 1.3092, \"target\": 3.25}, {\"MedInc\": 1.4464, \"target\": 1.132}, {\"MedInc\": 7.6933, \"target\": 4.059}, {\"MedInc\": 3.0781, \"target\": 1.625}, {\"MedInc\": 2.4167, \"target\": 1.92}, {\"MedInc\": 5.9399, \"target\": 2.419}, {\"MedInc\": 2.981, \"target\": 1.291}, {\"MedInc\": 4.2813, \"target\": 1.699}, {\"MedInc\": 3.7813, \"target\": 4.615}, {\"MedInc\": 4.2153, \"target\": 0.952}, {\"MedInc\": 2.6582, \"target\": 1.228}, {\"MedInc\": 3.5417, \"target\": 2.875}, {\"MedInc\": 4.6375, \"target\": 3.591}, {\"MedInc\": 1.7109, \"target\": 0.446}, {\"MedInc\": 3.5268, \"target\": 1.52}, {\"MedInc\": 4.4375, \"target\": 1.915}, {\"MedInc\": 6.3298, \"target\": 2.471}, {\"MedInc\": 3.5982, \"target\": 0.944}, {\"MedInc\": 4.0529, \"target\": 1.382}, {\"MedInc\": 2.4886, \"target\": 1.375}, {\"MedInc\": 5.25, \"target\": 1.617}, {\"MedInc\": 5.7415, \"target\": 3.219}, {\"MedInc\": 4.6488, \"target\": 1.453}, {\"MedInc\": 5.4533, \"target\": 4.098}, {\"MedInc\": 4.0391, \"target\": 2.799}, {\"MedInc\": 3.0306, \"target\": 1.785}, {\"MedInc\": 2.5625, \"target\": 2.354}, {\"MedInc\": 4.8051, \"target\": 1.743}, {\"MedInc\": 3.25, \"target\": 0.889}, {\"MedInc\": 2.0114, \"target\": 1.313}, {\"MedInc\": 5.6739, \"target\": 1.738}, {\"MedInc\": 1.7463, \"target\": 0.688}, {\"MedInc\": 3.7125, \"target\": 1.75}, {\"MedInc\": 4.7344, \"target\": 1.346}, {\"MedInc\": 5.6277, \"target\": 2.698}, {\"MedInc\": 4.7031, \"target\": 3.025}, {\"MedInc\": 8.4839, \"target\": 4.067}, {\"MedInc\": 4.9079, \"target\": 2.341}, {\"MedInc\": 3.46, \"target\": 2.328}, {\"MedInc\": 2.875, \"target\": 1.625}, {\"MedInc\": 15.0001, \"target\": 5.00001}, {\"MedInc\": 5.4088, \"target\": 4.573}, {\"MedInc\": 2.9714, \"target\": 1.603}, {\"MedInc\": 4.1146, \"target\": 1.601}, {\"MedInc\": 3.1439, \"target\": 1.031}, {\"MedInc\": 4.3661, \"target\": 2.221}, {\"MedInc\": 5.8461, \"target\": 2.274}, {\"MedInc\": 3.86, \"target\": 1.093}, {\"MedInc\": 6.1624, \"target\": 2.794}]}, \"config\": {\"cell\": {\"width\": 500, \"height\": 350}}};\n",
       "var selector = \"#cc0c608e-2e64-4b76-a079-9bdf905a6d63\";\n",
       "var type = \"vega-lite\";\n",
       "\n",
       "var output_area = this;\n",
       "require(['nbextensions/jupyter-vega/index'], function(vega) {\n",
       "  vega.render(selector, spec, type, output_area);\n",
       "}, function (err) {\n",
       "  if (err.requireType !== 'scripterror') {\n",
       "    throw(err);\n",
       "  }\n",
       "});\n"
      ]
     },
     "metadata": {
      "jupyter-vega": "#cc0c608e-2e64-4b76-a079-9bdf905a6d63"
     },
     "output_type": "display_data"
    },
    {
     "data": {
      "image/png": "[encoded data removed]"
     },
     "metadata": {
      "jupyter-vega": "#cc0c608e-2e64-4b76-a079-9bdf905a6d63"
     },
     "output_type": "display_data"
    }
   ],
   "source": [
    "c"
   ]
  },
  {
   "cell_type": "code",
   "execution_count": null,
   "metadata": {
    "collapsed": true
   },
   "outputs": [],
   "source": []
  }
 ],
 "metadata": {
  "kernelspec": {
   "display_name": "Python [conda root]",
   "language": "python",
   "name": "conda-root-py"
  },
  "language_info": {
   "codemirror_mode": {
    "name": "ipython",
    "version": 3
   },
   "file_extension": ".py",
   "mimetype": "text/x-python",
   "name": "python",
   "nbconvert_exporter": "python",
   "pygments_lexer": "ipython3",
   "version": "3.5.3"
  }
 },
 "nbformat": 4,
 "nbformat_minor": 2
}
